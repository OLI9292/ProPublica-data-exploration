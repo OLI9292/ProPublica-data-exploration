{
 "cells": [
  {
   "cell_type": "code",
   "execution_count": 7,
   "metadata": {
    "ExecuteTime": {
     "end_time": "2017-03-15T08:45:54.907014",
     "start_time": "2017-03-15T08:45:54.904340"
    },
    "collapsed": true,
    "run_control": {
     "frozen": false,
     "read_only": false
    }
   },
   "outputs": [],
   "source": [
    "import pandas as pd\n",
    "import requests\n",
    "import json"
   ]
  },
  {
   "cell_type": "code",
   "execution_count": 45,
   "metadata": {
    "ExecuteTime": {
     "end_time": "2017-03-15T10:31:22.547992",
     "start_time": "2017-03-15T10:31:22.545548"
    },
    "collapsed": true
   },
   "outputs": [],
   "source": [
    "pd.set_option('display.max_colwidth', -1)"
   ]
  },
  {
   "cell_type": "markdown",
   "metadata": {},
   "source": [
    "***\n",
    "***"
   ]
  },
  {
   "cell_type": "code",
   "execution_count": 3,
   "metadata": {
    "ExecuteTime": {
     "end_time": "2017-03-15T08:45:42.936659",
     "start_time": "2017-03-15T08:45:42.933731"
    },
    "collapsed": true
   },
   "outputs": [],
   "source": [
    "member_url = \"https://api.propublica.org/congress/v1/members/T000461/votes.json\"\n",
    "token = { \"X-API-Key\": \"04VcutIuRh2JR6XjLRzVg2vwFpKe5vKXp4iuI0Yd\" }"
   ]
  },
  {
   "cell_type": "code",
   "execution_count": 13,
   "metadata": {
    "ExecuteTime": {
     "end_time": "2017-03-15T08:48:26.433310",
     "start_time": "2017-03-15T08:48:25.949523"
    },
    "collapsed": true
   },
   "outputs": [],
   "source": [
    "votes = requests.get(member_url, headers = token)"
   ]
  },
  {
   "cell_type": "code",
   "execution_count": 41,
   "metadata": {
    "ExecuteTime": {
     "end_time": "2017-03-15T09:01:00.623759",
     "start_time": "2017-03-15T09:01:00.237097"
    },
    "collapsed": false
   },
   "outputs": [],
   "source": [
    "df = pd.DataFrame(columns=[\n",
    "        'bill_uri',\n",
    "        'latest_action',\n",
    "        'number',\n",
    "        'title',\n",
    "        'chamber',\n",
    "        'congress',\n",
    "        'date',\n",
    "        'description',\n",
    "        'member_id',\n",
    "        'position',\n",
    "        'question',\n",
    "        'roll_call',\n",
    "        'session',\n",
    "        'time'\n",
    "    ])\n",
    "\n",
    "for result in votes.json()['results'][0]['votes']:\n",
    "    row = {}\n",
    "    if result['bill'] != {}:\n",
    "        row['bill_uri'] = result['bill']['bill_uri']\n",
    "        row['latest_action'] = result['bill']['latest_action']\n",
    "        row['number'] = result['bill']['number']\n",
    "        row['title'] = result['bill']['title']\n",
    "    row['chamber'] = result['chamber']\n",
    "    row['congress'] = result['congress']\n",
    "    row['date'] = result['date']\n",
    "    row['description'] = result['description']\n",
    "    row['member_id'] = result['member_id']\n",
    "    row['position'] = result['position']\n",
    "    row['question'] = result['question']\n",
    "    row['roll_call'] = result['roll_call']\n",
    "    row['session'] = result['session']\n",
    "    row['time'] = result['time']\n",
    "    df = df.append(row, ignore_index=True)\n",
    "    \n",
    "df = df.fillna('')"
   ]
  },
  {
   "cell_type": "code",
   "execution_count": 60,
   "metadata": {
    "ExecuteTime": {
     "end_time": "2017-03-15T10:38:52.491015",
     "start_time": "2017-03-15T10:38:52.486449"
    },
    "collapsed": false
   },
   "outputs": [
    {
     "name": "stdout",
     "output_type": "stream",
     "text": [
      "A concurrent resolution setting forth the congressional budget for the United States Government for fiscal year 2017 and setting forth the appropriate budgetary levels for fiscal years 2018 through 2026.\n",
      "\n",
      "\n",
      "Continuing Appropriations and Military Construction, Veterans Affairs, and Related Agencies Appropriations Act, 2017, and Zika Response and Preparedness Act\n",
      "\n",
      "\n",
      "WIIN Act\n",
      "\n",
      "\n",
      "Gold Star Families Voices Act\n",
      "\n",
      "\n",
      "Disapproving the rule submitted by the Department of the Interior relating to Bureau of Land Management regulations that establish the procedures used to prepare, revise, or amend land use plans pursuant to the Federal Land Policy and Management Act of 1976.\n",
      "\n",
      "\n",
      "Disapproving the rule submitted by the Department of the Interior known as the Stream Protection Rule.\n",
      "\n",
      "\n",
      "Further Continuing and Security Assistance Appropriations Act, 2017\n",
      "\n",
      "\n",
      "GAO Access and Oversight Act of 2017\n",
      "\n",
      "\n",
      "American Energy and Conservation Act of 2016\n",
      "\n",
      "\n",
      "Providing for congressional disapproval under chapter 8 of title 5, United States Code, of the rule submitted by the Social Security Administration relating to Implementation of the NICS Improvement Amendments Act of 2007.\n",
      "\n",
      "\n",
      "ECHO Act\n",
      "\n",
      "\n",
      "21st Century Cures Act\n",
      "\n",
      "\n",
      "Providing for congressional disapproval under chapter 8 of title 5, United States Code, of the rule submitted by the Department of Education relating to teacher preparation issues.\n",
      "\n",
      "\n",
      "A bill to provide for an exception to a limitation against appointment of persons as Secretary of Defense within seven years of relief from active duty as a regular commissioned officer of the Armed Forces.\n",
      "\n",
      "\n",
      "Disapproving the rule submitted by the Department of Defense, the General Services Administration, and the National Aeronautics and Space Administration relating to the Federal Acquisition Regulation.\n",
      "\n",
      "\n",
      "Disapproving the rule submitted by the Department of Labor relating to drug testing of unemployment compensation applicants.\n",
      "\n",
      "\n",
      "Providing for congressional disapproval under chapter 8 of title 5, United States Code, of a rule submitted by the Securities and Exchange Commission relating to &quot;Disclosure of Payments by Resource Extraction Issuers&quot;.\n",
      "\n",
      "\n",
      "Providing for congressional disapproval under chapter 8 of title 5, United States Code, of the rule submitted by the Department of Education relating to accountability and State plans under the Elementary and Secondary Education Act of 1965.\n",
      "\n",
      "\n",
      "National Defense Authorization Act for Fiscal Year 2017\n",
      "\n",
      "\n",
      "Iran Sanctions Extension Act\n",
      "\n",
      "\n"
     ]
    }
   ],
   "source": [
    "for i in list(set(df['title'].loc[df['title']!=''])):\n",
    "    print i\n",
    "    print '\\n'"
   ]
  },
  {
   "cell_type": "code",
   "execution_count": 48,
   "metadata": {
    "ExecuteTime": {
     "end_time": "2017-03-15T10:32:05.348037",
     "start_time": "2017-03-15T10:32:05.342622"
    },
    "collapsed": false
   },
   "outputs": [
    {
     "data": {
      "text/plain": [
       "{u'bill': {u'bill_uri': u'https://api.propublica.org/congress/v1/115/bills/hjres42.json',\n",
       "  u'latest_action': u'Measure laid before Senate by motion. (consideration: CR S1772, S1781-1782)',\n",
       "  u'number': u'H.J.Res.42',\n",
       "  u'title': u'Disapproving the rule submitted by the Department of Labor relating to drug testing of unemployment compensation applicants.'},\n",
       " u'chamber': u'Senate',\n",
       " u'congress': u'115',\n",
       " u'date': u'2017-03-14',\n",
       " u'description': u'A joint resolution disapproving the rule submitted by the Department of Labor relating to drug testing of unemployment compensation applicants.',\n",
       " u'member_id': u'T000461',\n",
       " u'position': u'Yes',\n",
       " u'question': u'On the Joint Resolution',\n",
       " u'roll_call': u'87',\n",
       " u'session': u'1',\n",
       " u'time': u'17:49:00'}"
      ]
     },
     "execution_count": 48,
     "metadata": {},
     "output_type": "execute_result"
    }
   ],
   "source": [
    "votes.json()['results'][0]['votes'][0]"
   ]
  },
  {
   "cell_type": "code",
   "execution_count": 49,
   "metadata": {
    "ExecuteTime": {
     "end_time": "2017-03-15T10:32:10.171095",
     "start_time": "2017-03-15T10:32:10.165929"
    },
    "collapsed": false
   },
   "outputs": [
    {
     "data": {
      "text/plain": [
       "{u'bill': {},\n",
       " u'chamber': u'Senate',\n",
       " u'congress': u'115',\n",
       " u'date': u'2017-03-13',\n",
       " u'description': u'Seema Verma, of Indiana, to be Administrator of the Centers for Medicare and Medicaid Services',\n",
       " u'member_id': u'T000461',\n",
       " u'position': u'Yes',\n",
       " u'question': u'On the Nomination',\n",
       " u'roll_call': u'86',\n",
       " u'session': u'1',\n",
       " u'time': u'17:31:00'}"
      ]
     },
     "execution_count": 49,
     "metadata": {},
     "output_type": "execute_result"
    }
   ],
   "source": [
    "votes.json()['results'][0]['votes'][1]"
   ]
  },
  {
   "cell_type": "code",
   "execution_count": null,
   "metadata": {
    "collapsed": true
   },
   "outputs": [],
   "source": []
  }
 ],
 "metadata": {
  "hide_input": false,
  "kernelspec": {
   "display_name": "Python 2",
   "language": "python",
   "name": "python2"
  },
  "language_info": {
   "codemirror_mode": {
    "name": "ipython",
    "version": 2
   },
   "file_extension": ".py",
   "mimetype": "text/x-python",
   "name": "python",
   "nbconvert_exporter": "python",
   "pygments_lexer": "ipython2",
   "version": "2.7.10"
  }
 },
 "nbformat": 4,
 "nbformat_minor": 0
}
